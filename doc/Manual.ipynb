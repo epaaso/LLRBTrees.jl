{
 "cells": [
  {
   "cell_type": "markdown",
   "metadata": {},
   "source": [
    "# Árboles LLRB"
   ]
  },
  {
   "cell_type": "code",
   "execution_count": 1,
   "metadata": {
    "collapsed": true
   },
   "outputs": [],
   "source": [
    "using LLRBTrees"
   ]
  },
  {
   "cell_type": "markdown",
   "metadata": {},
   "source": [
    "## Árboles"
   ]
  },
  {
   "cell_type": "markdown",
   "metadata": {},
   "source": [
    "El árbol **LLRB** (*left-leaning red-black* o rojo-negro inclinado a la izquierda) es una **estructura de datos**,\n",
    "es decir, un objeto que guarda datos y soporta cietas operaciones.\n",
    "\n",
    "Esta estructura salva datos en **nodos**, que son pares de claves (**keys**) y valores (**values**) y que tienen vínculos a otros nodos. Como cualquier árbol, debe tener un nodo raíz (**root**), que no tiene ningún padre (osea no está vinculado a ningún otro nodo), desde el cuál se puede acceder a todos los otros nodos.\n",
    "\n",
    "Además, este tipo de árbol es **binario**. Así que cada nodo puede tener dos hijos como máximo. Si no tiene hijos en alguna de sus vacantes, a esta vacante la llamaremos hoja (**leaf**).\n",
    "\n",
    "El orden de los nodos se hace mediante las claves (keys). La convención es que un hijo izquierdo siempre tiene una clave menor a la de su padre y uno derecho, mayor."
   ]
  },
  {
   "cell_type": "markdown",
   "metadata": {},
   "source": [
    "## Árbol básico"
   ]
  },
  {
   "cell_type": "markdown",
   "metadata": {},
   "source": [
    "Para visualizar esto armemos un árbol básico.\n",
    "\n",
    "El objeto árbol lo podemos iniciar especificando los tipos de objeto de las claves y valores (las claves deben de tener un orden total):"
   ]
  },
  {
   "cell_type": "code",
   "execution_count": 2,
   "metadata": {
    "collapsed": false
   },
   "outputs": [
    {
     "data": {
      "text/plain": [
       "LLRBTrees.LLRBTree{Int64,ASCIIString}\n"
      ]
     },
     "execution_count": 2,
     "metadata": {},
     "output_type": "execute_result"
    }
   ],
   "source": [
    "arbol = LLRBTree{Int, ASCIIString}()"
   ]
  },
  {
   "cell_type": "markdown",
   "metadata": {},
   "source": [
    "O podemos simplemente indicar los valores de la raíz y julia adivinará los tipos"
   ]
  },
  {
   "cell_type": "code",
   "execution_count": 5,
   "metadata": {
    "collapsed": false
   },
   "outputs": [
    {
     "data": {
      "text/plain": [
       "      \n",
       "   a      \n"
      ]
     },
     "execution_count": 5,
     "metadata": {},
     "output_type": "execute_result"
    }
   ],
   "source": [
    "arbol = LLRBTree(1,\"a\")"
   ]
  },
  {
   "cell_type": "code",
   "execution_count": 6,
   "metadata": {
    "collapsed": false
   },
   "outputs": [
    {
     "data": {
      "text/plain": [
       "LLRBTrees.LLRBTree{Int64,ASCIIString}"
      ]
     },
     "execution_count": 6,
     "metadata": {},
     "output_type": "execute_result"
    }
   ],
   "source": [
    "typeof(arbol)"
   ]
  },
  {
   "cell_type": "markdown",
   "metadata": {},
   "source": [
    "Para añadir un hijo adoptamos el método de Base `push!` y le podemos dar los valores"
   ]
  },
  {
   "cell_type": "code",
   "execution_count": 8,
   "metadata": {
    "collapsed": false
   },
   "outputs": [
    {
     "data": {
      "text/plain": [
       "              \n",
       "       a       \n",
       "   /           \n",
       "  b_r             \n"
      ]
     },
     "execution_count": 8,
     "metadata": {},
     "output_type": "execute_result"
    }
   ],
   "source": [
    "push!(arbol, 0, \"b\")"
   ]
  },
  {
   "cell_type": "markdown",
   "metadata": {},
   "source": [
    "O un nodo"
   ]
  },
  {
   "cell_type": "code",
   "execution_count": 9,
   "metadata": {
    "collapsed": false
   },
   "outputs": [
    {
     "data": {
      "text/plain": [
       "              \n",
       "       a       \n",
       "    /       \\  \n",
       "   b        c     \n"
      ]
     },
     "execution_count": 9,
     "metadata": {},
     "output_type": "execute_result"
    }
   ],
   "source": [
    "nodo = TreeNode(2, \"c\")\n",
    "push!(arbol, nodo)"
   ]
  },
  {
   "cell_type": "markdown",
   "metadata": {},
   "source": [
    "## Utilidad"
   ]
  },
  {
   "cell_type": "markdown",
   "metadata": {},
   "source": [
    "La conveniencia de los árboles binarios de búsqueda (**binary-search trees** o **BST's**) es la velocidad que ofrecen en la búsqueda de una clave.\n",
    "\n",
    "Para mantener un arreglo de objetos en la memoria se guarda normalmente uno de sus elementos en la memoria y a los demás se les accede por medio de vínculos entre ellos.\n",
    "\n",
    "Si se tuviera una cadena lineal de objetos (e.d. un unsorted array)"
   ]
  },
  {
   "cell_type": "code",
   "execution_count": 10,
   "metadata": {
    "collapsed": false
   },
   "outputs": [
    {
     "data": {
      "text/plain": [
       "                                                                                                                              \n",
       "                                                               1                                                               \n",
       "                                                                                               \\                               \n",
       "                                                                                               2_r                             \n",
       "                                                                                                               \\               \n",
       "                                                                                                               3_r             \n",
       "                                                                                                                       \\       \n",
       "                                                                                                                       4_r     \n",
       "                                                                                                                           \\   \n",
       "                                                                                                                           5_r    \n"
      ]
     },
     "execution_count": 10,
     "metadata": {},
     "output_type": "execute_result"
    }
   ],
   "source": [
    "unsorted = LLRBTree(1,1)\n",
    "\n",
    "nodoactual = unsorted.root\n",
    "for i in 2:5\n",
    "    nodoactual.right = TreeNode(i,i)\n",
    "    nodoactual = nodoactual.right\n",
    "end\n",
    "\n",
    "unsorted"
   ]
  },
  {
   "cell_type": "markdown",
   "metadata": {},
   "source": [
    "Se necesitarían tantos pasos para llegar al último elemento como elementos tenga el árbol."
   ]
  },
  {
   "cell_type": "code",
   "execution_count": 11,
   "metadata": {
    "collapsed": false
   },
   "outputs": [
    {
     "name": "stdout",
     "output_type": "stream",
     "text": [
      "  0.013639 seconds (13.04 k allocations: 531.998 KB)\n"
     ]
    },
    {
     "data": {
      "text/plain": [
       "Nullable(5)"
      ]
     },
     "execution_count": 11,
     "metadata": {},
     "output_type": "execute_result"
    }
   ],
   "source": [
    "@time unsorted[5]"
   ]
  },
  {
   "cell_type": "markdown",
   "metadata": {},
   "source": [
    "En cambio, en un arbol binario (**BST**) bien ordenado se hace una comparación para ver si la clave buscada es mayor o menor.\n",
    "\n",
    "Así que en cada comparación se salta uno en promedio la mitad del arbol debajo del nodo.\n",
    "\n",
    "Por lo que cada búsqueda, inserción o extracción toma aproximadamte el logaritmo base 2 del número de elementos del árbol en pasos."
   ]
  },
  {
   "cell_type": "code",
   "execution_count": 12,
   "metadata": {
    "collapsed": false
   },
   "outputs": [
    {
     "data": {
      "text/plain": [
       "                              \n",
       "               4               \n",
       "       /                \\      \n",
       "      2_r               5      \n",
       "    /      \\                   \n",
       "   1       3                      \n"
      ]
     },
     "execution_count": 12,
     "metadata": {},
     "output_type": "execute_result"
    }
   ],
   "source": [
    "arbol = LLRBTree(1,1) \n",
    "for i in 2:5\n",
    "    push!(arbol, i,i)\n",
    "end\n",
    "arbol"
   ]
  },
  {
   "cell_type": "code",
   "execution_count": 13,
   "metadata": {
    "collapsed": false
   },
   "outputs": [
    {
     "name": "stdout",
     "output_type": "stream",
     "text": [
      "  0.000002 seconds (5 allocations: 192 bytes)\n"
     ]
    },
    {
     "data": {
      "text/plain": [
       "Nullable(5)"
      ]
     },
     "execution_count": 13,
     "metadata": {},
     "output_type": "execute_result"
    }
   ],
   "source": [
    "@time arbol[5]"
   ]
  },
  {
   "cell_type": "code",
   "execution_count": 20,
   "metadata": {
    "collapsed": false
   },
   "outputs": [
    {
     "data": {
      "text/plain": [
       "4-element Array{Any,1}:\n",
       " [5,5]  \n",
       " [6,6]  \n",
       " [10,10]\n",
       " [15,15]"
      ]
     },
     "execution_count": 20,
     "metadata": {},
     "output_type": "execute_result"
    }
   ],
   "source": [
    "orderedpairs(arbol)"
   ]
  },
  {
   "cell_type": "markdown",
   "metadata": {},
   "source": [
    "Hay que tomar en cuenta que esta comparación en tiempos no es tan justa pues el `getindex()` de los arboles pregunta por el elemento izquierdo primero y luego va al derecho."
   ]
  },
  {
   "cell_type": "markdown",
   "metadata": {},
   "source": [
    "## Árboles rojo-negros"
   ]
  },
  {
   "cell_type": "markdown",
   "metadata": {},
   "source": [
    "Lo que no es tan fácil es mantener el árbol más o menos balanceado.\n",
    "\n",
    "**Balanceado** quiere decir que cualquier camino de la raíz a una hoja tenga el mismo número de pasos.\n",
    "\n",
    "Para mantener a los árboles balanceados se han diseñado muchos tipos de árboles auto-balanceados (*self-balancing trees*). Osea que, a medida que se le añaden o quitan elementos se ejecutan otras operaciones que aseguran una especie de balance.\n",
    "\n",
    "\n",
    "El método que usamos nosotros es una mejora de los árboles rojo-negros (**red-black trees** o **RBT**) que fueron introducidos por **Guibas** y **Robert Sedgewick** hace 30 años."
   ]
  },
  {
   "cell_type": "markdown",
   "metadata": {},
   "source": [
    "Los RBT's son una representación binaria de árboles con nodos que pueden tener hasta 4 hijos (**2-3-4 Trees**). En nuestra implementación representamos a un vínculo rojo con el padre como un nodo rojo (al que se la añade \"_r\" en nuestra representación ASCII) y los nodos vinculados son parte de un gran nodo."
   ]
  },
  {
   "cell_type": "markdown",
   "metadata": {},
   "source": [
    "![2-3 vs BST](./23andBSTs.png)\n",
    "***Fuente: Sedgewick, R. Left-leaning Red-Black Trees. p. 2***"
   ]
  },
  {
   "cell_type": "markdown",
   "metadata": {
    "collapsed": true
   },
   "source": [
    "Estos nodos grandes se utilizan para no tener que aumentar o disminuir la altura de solo una rama del árbol cuando se añade o sustrae un nodo.\n",
    "\n",
    "Por eso, en nuestra implementación, siempre habrá el mismo número de saltos hacia nodos negros, cuando se va de la raíz a cualquier hoja.\n",
    "\n",
    "En esta implementación se siguen tres principios básicos que hacen que el código sea mas elegante:\n",
    "\n",
    "* Implementación recursiva\n",
    "* Solo puede haber 3-nodos y el vínculo solo puede estar a la izquierda (por eso es **left-leaning**)\n",
    "* Se hacen modificaciones al regresar de la recursión, por ej. se permiten 4-nodos que en el regreso se convierten en tres 2-nodos"
   ]
  },
  {
   "cell_type": "markdown",
   "metadata": {},
   "source": [
    "## Inserción"
   ]
  },
  {
   "cell_type": "markdown",
   "metadata": {},
   "source": [
    "Si el nodo final, donde insertamos un hijo, es un 2-nodo (osea tiene max. 2 hijos), lo convertimos en 3-nodo."
   ]
  },
  {
   "cell_type": "code",
   "execution_count": 14,
   "metadata": {
    "collapsed": false
   },
   "outputs": [
    {
     "data": {
      "text/plain": [
       "              \n",
       "       10      \n",
       "    /       \\  \n",
       "   5        15    \n"
      ]
     },
     "execution_count": 14,
     "metadata": {},
     "output_type": "execute_result"
    }
   ],
   "source": [
    "arbol = LLRBTree(5,5)\n",
    "push!(arbol, 10, 10)\n",
    "push!(arbol, 15, 15)\n",
    "arbol"
   ]
  },
  {
   "cell_type": "code",
   "execution_count": 15,
   "metadata": {
    "collapsed": false
   },
   "outputs": [
    {
     "data": {
      "text/plain": [
       "                              \n",
       "               10              \n",
       "        /               \\      \n",
       "       5                15     \n",
       "   /                           \n",
       "  4_r                             \n"
      ]
     },
     "execution_count": 15,
     "metadata": {},
     "output_type": "execute_result"
    }
   ],
   "source": [
    "push!(arbol,4,4)"
   ]
  },
  {
   "cell_type": "markdown",
   "metadata": {},
   "source": [
    "Y si el nodo final es un 3-nodo se puede hacer un rotación a la derecha del nodo padre"
   ]
  },
  {
   "cell_type": "code",
   "execution_count": 16,
   "metadata": {
    "collapsed": false
   },
   "outputs": [
    {
     "data": {
      "text/plain": [
       "                              \n",
       "               10              \n",
       "       /                \\      \n",
       "      4_r               15     \n",
       "    /      \\                   \n",
       "   3       5                      \n"
      ]
     },
     "execution_count": 16,
     "metadata": {},
     "output_type": "execute_result"
    }
   ],
   "source": [
    "push!(arbol,3,3)"
   ]
  },
  {
   "cell_type": "markdown",
   "metadata": {},
   "source": [
    "O a la izquierda"
   ]
  },
  {
   "cell_type": "code",
   "execution_count": 17,
   "metadata": {
    "collapsed": false
   },
   "outputs": [
    {
     "data": {
      "text/plain": [
       "              \n",
       "       10      \n",
       "    /       \\  \n",
       "   5        15    \n"
      ]
     },
     "execution_count": 17,
     "metadata": {},
     "output_type": "execute_result"
    }
   ],
   "source": [
    "arbol = LLRBTree(5,5)\n",
    "push!(arbol, 10, 10)\n",
    "push!(arbol, 15, 15)\n",
    "arbol"
   ]
  },
  {
   "cell_type": "code",
   "execution_count": 18,
   "metadata": {
    "collapsed": false
   },
   "outputs": [
    {
     "data": {
      "text/plain": [
       "                              \n",
       "               10              \n",
       "        /               \\      \n",
       "       6                15     \n",
       "   /                           \n",
       "  5_r                             \n"
      ]
     },
     "execution_count": 18,
     "metadata": {},
     "output_type": "execute_result"
    }
   ],
   "source": [
    "push!(arbol, 6, 6)"
   ]
  },
  {
   "cell_type": "code",
   "execution_count": null,
   "metadata": {
    "collapsed": true
   },
   "outputs": [],
   "source": []
  }
 ],
 "metadata": {
  "kernelspec": {
   "display_name": "Julia 0.4.6",
   "language": "julia",
   "name": "julia-0.4"
  },
  "language_info": {
   "file_extension": ".jl",
   "mimetype": "application/julia",
   "name": "julia",
   "version": "0.4.6"
  },
  "latex_envs": {
   "bibliofile": "biblio.bib",
   "cite_by": "apalike",
   "current_citInitial": 1,
   "eqLabelWithNumbers": true,
   "eqNumInitial": 0
  }
 },
 "nbformat": 4,
 "nbformat_minor": 0
}
